{
 "cells": [
  {
   "cell_type": "markdown",
   "id": "d876015a",
   "metadata": {},
   "source": [
    " ## Functions notebook\n",
    " \n",
    "This notebook consists of functions for data analysis in `SCENES` project"
   ]
  },
  {
   "cell_type": "markdown",
   "id": "f5ca099d",
   "metadata": {},
   "source": [
    "## Create the data tree and count the number of files "
   ]
  },
  {
   "cell_type": "code",
   "execution_count": null,
   "id": "cbd73152",
   "metadata": {},
   "outputs": [],
   "source": [
    "import os\n",
    "import re\n",
    "import datetime\n",
    "import pandas as pd\n",
    "import numpy as np\n",
    "import matplotlib.pyplot as plt\n",
    "from matplotlib.pyplot import figure\n",
    "from scipy.fft import fft2, fftshift\n",
    "from scipy.stats import linregress"
   ]
  },
  {
   "cell_type": "code",
   "execution_count": null,
   "id": "15cb944a",
   "metadata": {},
   "outputs": [],
   "source": [
    "# Show the code directory path\n",
    "cwd = os.getcwd()\n",
    "print('Current working directory:', cwd)"
   ]
  },
  {
   "cell_type": "code",
   "execution_count": null,
   "id": "ed6f4549",
   "metadata": {},
   "outputs": [],
   "source": [
    "# Change the directory path\n",
    "os.chdir(r'\\\\kfs\\tscn-dropbox\\scenes\\data')\n",
    "\n",
    "################ The \\Pythontest directory contains a small subset of data for testing ##############\n",
    "#os.chdir(r'\\\\kfs\\tscn-dropbox\\rewocap\\data\\pilot\\Pythontest')\n",
    "\n",
    "# The project directory\n",
    "root_dir = os.getcwd()\n",
    "print('New working directory:', root_dir)"
   ]
  },
  {
   "cell_type": "code",
   "execution_count": null,
   "id": "507aac0e",
   "metadata": {},
   "outputs": [],
   "source": [
    "# The data directory\n",
    "data_dir = r'\\\\kfs\\tscn-dropbox\\scenes\\data\\raw'\n"
   ]
  },
  {
   "cell_type": "code",
   "execution_count": null,
   "id": "d7bd97fd",
   "metadata": {},
   "outputs": [],
   "source": [
    "# Create the results directory if it doesn't exist\n",
    "result_dir = os.path.join(root_dir, 'results')\n",
    "if not os.path.exists(result_dir):\n",
    "    os.mkdir(result_dir)"
   ]
  },
  {
   "cell_type": "code",
   "execution_count": null,
   "id": "42dce526",
   "metadata": {},
   "outputs": [],
   "source": [
    "# Create the plots directory if it doesn't exist\n",
    "plot_dir = os.path.join(result_dir, 'plots')\n",
    "if not os.path.exists(plot_dir):\n",
    "    os.mkdir(plot_dir)"
   ]
  },
  {
   "cell_type": "code",
   "execution_count": null,
   "id": "cb9c906f",
   "metadata": {},
   "outputs": [],
   "source": [
    "# Create the trees directory if it doesn't exist\n",
    "tree_dir = os.path.join(result_dir, 'trees')\n",
    "if not os.path.exists(tree_dir):\n",
    "    os.mkdir(tree_dir)"
   ]
  },
  {
   "cell_type": "code",
   "execution_count": null,
   "id": "5bced1e4",
   "metadata": {},
   "outputs": [],
   "source": [
    "# Create the trees directory if it doesn't exist\n",
    "classification_dir = os.path.join(plot_dir, 'classifications')\n",
    "if not os.path.exists(classification_dir):\n",
    "    os.mkdir(classification_dir)"
   ]
  },
  {
   "cell_type": "code",
   "execution_count": null,
   "id": "b7fb98e4",
   "metadata": {},
   "outputs": [],
   "source": [
    "# Create a function to accept a stat path and store a data tree as a text file in the 'results' folder\n",
    "\n",
    "def data_tree(startpath, output_file):\n",
    "     \n",
    "    # Open the output file for writing\n",
    "    output_path = os.path.join(tree_dir, output_file)\n",
    "    with open(output_path, 'w') as f_out:\n",
    "        \n",
    "        # we exclude gopro directoris and temporary files with ~$ in front of their names\n",
    "        exclude_pattern = re.compile(r'.*_gopro$|~\\$.*')\n",
    "        # Iterate over all directories and subdirectories in the tree\n",
    "        for dirpath, dirnames, filenames in os.walk(startpath, topdown=True):\n",
    "            dirnames[:] = [d for d in dirnames if not exclude_pattern.match(d)]\n",
    "            filenames = [f for f in filenames if not exclude_pattern.match(f)]\n",
    "            # Exclude .git directory\n",
    "            dirnames[:] = [d for d in dirnames if d not in ('.git')]\n",
    "            \n",
    "            # Print the directory name to the file\n",
    "            level = dirpath.replace(startpath, '').count(os.sep)\n",
    "            indent = ' ' * 4 * level\n",
    "            print('{}{}/'.format(indent, os.path.basename(dirpath)), file=f_out)\n",
    "            # Print the filename to the file\n",
    "            subindent = ' ' * 4 * (level + 1)\n",
    "            for f in filenames:\n",
    "                print('{}{}'.format(subindent, f), file=f_out)\n",
    "            "
   ]
  },
  {
   "cell_type": "code",
   "execution_count": null,
   "id": "0e6d8329-c219-42d1-890d-eea77c6cc734",
   "metadata": {},
   "outputs": [],
   "source": [
    "# Create a function to count all files in the datatree\n",
    "\n",
    "def count_files(startpath):\n",
    "    file_count = 0\n",
    "    for dirpath, _, filenames in os.walk(startpath):\n",
    "        file_count += len(filenames)\n",
    "        \n",
    "    return file_count"
   ]
  },
  {
   "cell_type": "code",
   "execution_count": null,
   "id": "5e41a2dd",
   "metadata": {},
   "outputs": [],
   "source": [
    "# Create a function to count all measurement folders in the datatree\n",
    "\n",
    "def count_folders(startpath):\n",
    "    folder_count = 0\n",
    "    pattern = re.compile(r'^\\w{4}_\\w{8}T\\w{4}$')  # Regular expression pattern for the folder name format\n",
    "\n",
    "    for dirpath, dirnames, _ in os.walk(startpath):\n",
    "        for dirname in dirnames:\n",
    "            if pattern.match(dirname):\n",
    "                folder_count += 1\n",
    "\n",
    "    return folder_count"
   ]
  },
  {
   "cell_type": "code",
   "execution_count": null,
   "id": "04e274bd",
   "metadata": {},
   "outputs": [],
   "source": [
    "# This function give warning message for any subdirectoris that doesn't have correct data files number.\n",
    "\n",
    "def missing_files(startpath, output_file):\n",
    "    \n",
    "    # Open the output file for writing\n",
    "    output_path = os.path.join(result_dir, output_file)\n",
    "    with open(output_path, 'w') as f_out:\n",
    "        \n",
    "        different_file_counts = {}\n",
    "        \n",
    "        exclude_pattern = re.compile(r'.*(_gopro)$|^\\..*|~$')\n",
    "    \n",
    "        for dirpath, dirnames, filenames in os.walk(startpath, topdown=True):\n",
    "            dirnames[:] = [d for d in dirnames if not exclude_pattern.match(d)]\n",
    "            filenames = [f for f in filenames if not exclude_pattern.match(f)]\n",
    "            #dirnames[:] = [d for d in dirnames if d not in ('results', 'pilot', 'derivatives', 'metadata', 'temporary')]\n",
    "            \n",
    "            level = dirpath.replace(startpath, '').count(os.sep)\n",
    "            file_count = len(filenames)\n",
    "            \n",
    "            if level == 2:\n",
    "                if any(filename.startswith('acttrust') for filename in filenames):\n",
    "                    if file_count != 4:\n",
    "                        missing_file_count = 4 - file_count\n",
    "                        different_file_counts[dirpath] = missing_file_count\n",
    "                        \n",
    "                    \n",
    "                elif any(filename.startswith('testo') for filename in filenames):\n",
    "                    if file_count != 1:\n",
    "                        missing_file_count = 1\n",
    "                        different_file_counts[dirpath] = missing_file_count\n",
    "                else:\n",
    "                    if any(filename.startswith('jeti') for filename in filenames):\n",
    "                        if file_count != 8:\n",
    "                            missing_file_count = 8 - file_count\n",
    "                            different_file_counts[dirpath] = missing_file_count\n",
    "                            \n",
    "                    elif any(filename.startswith('giga') for filename in filenames):\n",
    "                        if file_count != 6:\n",
    "                            missing_file_count = 6 - file_count\n",
    "                            different_file_counts[dirpath] = missing_file_count\n",
    "                            \n",
    "        if different_file_counts:\n",
    "            print('WARNING: The following subdirectories do not have correct files numbers:', file=f_out)\n",
    "            \n",
    "            for dirpath, count in different_file_counts.items():\n",
    "                print(f'{dirpath} has {count} missing files', file=f_out)\n",
    "\n"
   ]
  },
  {
   "cell_type": "markdown",
   "id": "62b7d3d5",
   "metadata": {},
   "source": [
    "## Create the `klein_jeti_wp` data frame "
   ]
  },
  {
   "cell_type": "code",
   "execution_count": null,
   "id": "cf203054",
   "metadata": {},
   "outputs": [],
   "source": [
    "# Define a function to generate a dataframe for each divice names, paths and coresponding timestamps\n",
    "\n",
    "#Example of header and two raws of the generated data frames\n",
    "\n",
    "###########  timestamp       date       time   file_name                     file_paths\n",
    "###########  20230302T0900   20230302   0900   jeti1511_20230302T0900.xlsx   \\\\kfs\\tscn-dropbox\\rewocap\\data\\pilot\\Pythonte...\n",
    "###########  20230302T0930   20230302   0930   jeti1511_20230302T0930.xlsx   \\\\kfs\\tscn-dropbox\\rewocap\\data\\pilot\\Pythonte...\n",
    "\n",
    "def generate_dataframe(dir_path, file_name_prefix, file_extension):\n",
    "    # Create empty lists to store the file names, file paths and timestamps\n",
    "    file_names = []\n",
    "    file_paths = []\n",
    "    dates = []\n",
    "    times = []\n",
    "    timestamps = []\n",
    "\n",
    "    # Walk through the directory tree and search for the files\n",
    "    for dirpath, dirnames, filenames in os.walk(dir_path):\n",
    "        for filename in filenames:\n",
    "            if filename.startswith(file_name_prefix) and filename.endswith(file_extension):\n",
    "                    file_names.append(filename)\n",
    "                    file_paths.append(os.path.join(dirpath, filename))\n",
    "                    extension_len = len(file_extension)\n",
    "                    timestamp_str = filename[-(extension_len+13):-extension_len]\n",
    "                    timestamps.append(timestamp_str)\n",
    "                    date_str = timestamp_str[0:8]\n",
    "                    time_str = timestamp_str[9:]\n",
    "                    dates.append(date_str)\n",
    "                    times.append(time_str)\n",
    "\n",
    "    # Create a dictionary with the data\n",
    "    data_dict = {'timestamp': timestamps, 'date': dates, 'time': times, 'file_name': file_names, 'file_paths': file_paths}\n",
    "   \n",
    "\n",
    "    # Create a dataframe from the dictionary\n",
    "    return pd.DataFrame(data_dict)\n",
    "    "
   ]
  },
  {
   "cell_type": "code",
   "execution_count": null,
   "id": "14a1fecd",
   "metadata": {},
   "outputs": [],
   "source": [
    "def generate_timestamp_dict(dir_path, file_name_prefix, file_extension):\n",
    "    # Create empty lists to store timestamps\n",
    "    file_names = []\n",
    "    file_paths = []\n",
    "    dates = []\n",
    "    times = []\n",
    "    timestamps = []\n",
    "\n",
    "    # Walk through the directory tree and search for the files\n",
    "    for dirpath, dirnames, filenames in os.walk(dir_path):\n",
    "        for filename in filenames:\n",
    "            if filename.startswith(file_name_prefix) and filename.endswith(file_extension):\n",
    "                    file_names.append(filename)\n",
    "                    file_paths.append(os.path.join(dirpath, filename))\n",
    "                    extension_len = len(file_extension)\n",
    "                    timestamp_str = filename[-(extension_len+13):-extension_len]\n",
    "                    timestamps.append(timestamp_str)\n",
    "                    date_str = timestamp_str[0:8]\n",
    "                    time_str = timestamp_str[9:]\n",
    "                    dates.append(date_str)\n",
    "                    times.append(time_str)\n",
    "\n",
    "    # Create a dictionary with the data\n",
    "    data_dict = {'timestamp': timestamps, 'date': dates, 'time': times, 'file_name': file_names, 'file_paths': file_paths}\n",
    "   \n",
    "\n",
    "    # Dictionary\n",
    "    return data_dict"
   ]
  },
  {
   "cell_type": "markdown",
   "id": "88ef973d",
   "metadata": {},
   "source": [
    "## WP- Amplitude spectra"
   ]
  },
  {
   "cell_type": "code",
   "execution_count": null,
   "id": "5a459412",
   "metadata": {},
   "outputs": [],
   "source": [
    "new_key_names = [\"L cones\", \"M cones\", \"S cones\", \"Rods\", \"Melanopsin\"]"
   ]
  },
  {
   "cell_type": "code",
   "execution_count": null,
   "id": "a432945a",
   "metadata": {},
   "outputs": [],
   "source": [
    "# Function to compute the amplitude spectrum\n",
    "# input: 2D NumPy array\n",
    "\n",
    "def compute_amplitude_spectrum(image):\n",
    "    # Get dimensions of the input image\n",
    "    height, width = image.shape\n",
    "    # Determine the shorter dimension\n",
    "    min_dim = min(height, width)\n",
    "    \n",
    "    # Crop the image to a centered square patch\n",
    "    start_x = (width - min_dim) // 2\n",
    "    start_y = (height - min_dim) // 2\n",
    "    cropped_image = image[start_y:start_y + min_dim, start_x:start_x + min_dim]\n",
    "    \n",
    "    # Compute the median of valid values (ignoring NaN and Inf)\n",
    "    valid_median = np.nanmedian(cropped_image)\n",
    "    # Compute the maximum value (ignoring NaN and Inf)\n",
    "    valid_max = np.nanmax(cropped_image[np.isfinite(cropped_image)])\n",
    "    # Replace NaN with the computed median\n",
    "    cropped_image = np.where(np.isnan(cropped_image), valid_median, cropped_image)\n",
    "    # Replace Inf with the computed maximum value\n",
    "    cropped_image = np.where(np.isinf(cropped_image), valid_max, cropped_image)\n",
    "    \n",
    "    # Perform 2D FFT on the valid part of the image (ignores NaN and Inf values)\n",
    "    fft_result = fft2(cropped_image)\n",
    "    fft_result = fftshift(fft_result)  # Shift the zero frequency component to the center\n",
    "    amplitude_spectrum = np.abs(fft_result)\n",
    "    return amplitude_spectrum\n"
   ]
  },
  {
   "cell_type": "code",
   "execution_count": 1,
   "id": "031e039f",
   "metadata": {},
   "outputs": [],
   "source": [
    "# input:amplitude_spectrum , output: radial_frequencies (bin centers) and radial_amplitude (average amplitude per bin)\n",
    "\n",
    "def radial_frequencies_logarithmically_spaced(amplitude_spectrum, center=None, num_log_bins=100):\n",
    "    \n",
    "\n",
    "    # Create coordinate grids\n",
    "    y, x = np.indices(amplitude_spectrum.shape)\n",
    "    if center is None:\n",
    "        center = (amplitude_spectrum.shape[1] // 2, amplitude_spectrum.shape[0] // 2)\n",
    "\n",
    "    # Calculate radial distances from the center\n",
    "    radial_distances = np.sqrt((x - center[0])**2 + (y - center[1])**2)\n",
    "\n",
    "# Determine logarithmically spaced bins for radial distances\n",
    "    min_distance = np.min(radial_distances[radial_distances > 0])  # Exclude zero\n",
    "    max_distance = np.max(radial_distances)\n",
    "    log_bins = np.logspace(np.log10(min_distance), np.log10(max_distance), num=num_log_bins + 1)\n",
    "\n",
    "    # Compute radial bins and their average values (exclude zero frequency)\n",
    "    radial_amplitude, _ = np.histogram(radial_distances,\n",
    "                                       bins=log_bins,\n",
    "                                       weights=amplitude_spectrum)\n",
    "\n",
    "    # Normalize by the number of points in each bin\n",
    "    counts, _ = np.histogram(radial_distances, bins=log_bins)\n",
    "    radial_amplitude = radial_amplitude / (counts + 1e-10)  # Avoid division by zero\n",
    "\n",
    "    # Radial frequencies correspond to bin centers\n",
    "    radial_frequencies = np.sqrt(log_bins[:-1] * log_bins[1:])\n",
    "    \n",
    "    # Filter out zero or near-zero amplitudes and frequencies above 10^2\n",
    "    valid_indices = (radial_amplitude > 1e-10) & (radial_frequencies <= 10**2)\n",
    "    radial_frequencies = radial_frequencies[valid_indices]\n",
    "    radial_amplitude = radial_amplitude[valid_indices]\n",
    "\n",
    "    return radial_frequencies, radial_amplitude"
   ]
  },
  {
   "cell_type": "code",
   "execution_count": null,
   "id": "75ecb394",
   "metadata": {},
   "outputs": [],
   "source": [
    "jupyter nbconvert --to script scenes_functions.ipynb"
   ]
  }
 ],
 "metadata": {
  "kernelspec": {
   "display_name": "Python 3 (ipykernel)",
   "language": "python",
   "name": "python3"
  },
  "language_info": {
   "codemirror_mode": {
    "name": "ipython",
    "version": 3
   },
   "file_extension": ".py",
   "mimetype": "text/x-python",
   "name": "python",
   "nbconvert_exporter": "python",
   "pygments_lexer": "ipython3",
   "version": "3.11.9"
  },
  "toc": {
   "base_numbering": 1,
   "nav_menu": {},
   "number_sections": true,
   "sideBar": true,
   "skip_h1_title": false,
   "title_cell": "Table of Contents",
   "title_sidebar": "Contents",
   "toc_cell": false,
   "toc_position": {},
   "toc_section_display": true,
   "toc_window_display": false
  },
  "varInspector": {
   "cols": {
    "lenName": 16,
    "lenType": 16,
    "lenVar": 40
   },
   "kernels_config": {
    "python": {
     "delete_cmd_postfix": "",
     "delete_cmd_prefix": "del ",
     "library": "var_list.py",
     "varRefreshCmd": "print(var_dic_list())"
    },
    "r": {
     "delete_cmd_postfix": ") ",
     "delete_cmd_prefix": "rm(",
     "library": "var_list.r",
     "varRefreshCmd": "cat(var_dic_list()) "
    }
   },
   "types_to_exclude": [
    "module",
    "function",
    "builtin_function_or_method",
    "instance",
    "_Feature"
   ],
   "window_display": false
  }
 },
 "nbformat": 4,
 "nbformat_minor": 5
}
